{
  "cells": [
    {
      "cell_type": "markdown",
      "metadata": {
        "id": "arlX8FeMtabc"
      },
      "source": [
        "# SQLDatabaseChain oLLM\n"
      ]
    },
    {
      "cell_type": "markdown",
      "source": [
        "## Installs"
      ],
      "metadata": {
        "id": "SodUZXmugnZA"
      }
    },
    {
      "cell_type": "code",
      "execution_count": null,
      "metadata": {
        "id": "T7tOFd1ttabd"
      },
      "outputs": [],
      "source": [
        "%%capture\n",
        "!pip install -q langchain\n",
        "!pip install -q openai"
      ]
    },
    {
      "cell_type": "markdown",
      "source": [
        "# Secret Key"
      ],
      "metadata": {
        "id": "hj2WQa9whw7B"
      }
    },
    {
      "cell_type": "code",
      "source": [
        "import os\n",
        "os.environ['OPENAI_API_KEY'] = 'k-Zal52g3n1VBxJ1b4KvFAT3BlbkFJi8TDRbpag8jgLKLAmfoU'"
      ],
      "metadata": {
        "id": "3uuYhNQXfdmY"
      },
      "execution_count": null,
      "outputs": []
    },
    {
      "cell_type": "markdown",
      "source": [
        "# Reading the DB"
      ],
      "metadata": {
        "id": "urDjpvWtj404"
      }
    },
    {
      "cell_type": "code",
      "source": [
        "def read_sql_query(sql, db):\n",
        "    conn = sqlite3.connect(db)\n",
        "    cur = conn.cursor()\n",
        "    cur.execute(sql)\n",
        "    rows = cur.fetchall()\n",
        "    for row in rows:\n",
        "        print(row)\n",
        "    conn.close()"
      ],
      "metadata": {
        "id": "dG96BwyVfyEx"
      },
      "execution_count": null,
      "outputs": []
    },
    {
      "cell_type": "code",
      "source": [
        "import sqlite3\n",
        "read_sql_query('SELECT * FROM Channel;',\n",
        "               \"video_playlist.sqlite\")"
      ],
      "metadata": {
        "id": "P17T9MwgiFCL"
      },
      "execution_count": null,
      "outputs": []
    },
    {
      "cell_type": "markdown",
      "source": [
        "# Langchain SQL Agent"
      ],
      "metadata": {
        "id": "nBztCNQakElE"
      }
    },
    {
      "cell_type": "code",
      "source": [
        "from langchain import OpenAI, SQLDatabase, SQLDatabaseChain"
      ],
      "metadata": {
        "id": "c-iId_loiFEg"
      },
      "execution_count": null,
      "outputs": []
    },
    {
      "cell_type": "code",
      "source": [
        "input_db = SQLDatabase.from_uri('sqlite:///video_playlist.sqlite')\n",
        "llm_1 = OpenAI(temperature=0)"
      ],
      "metadata": {
        "id": "g1QeyHrvil6Z"
      },
      "execution_count": null,
      "outputs": []
    },
    {
      "cell_type": "code",
      "source": [
        "db_agent = SQLDatabaseChain(llm = llm_1,\n",
        "                            database = input_db,\n",
        "                            verbose=True)"
      ],
      "metadata": {
        "id": "bwVDUTJ4il8c",
        "colab": {
          "base_uri": "https://localhost:8080/"
        },
        "outputId": "594676ed-4b99-48a1-b782-8e7765f5d8c5"
      },
      "execution_count": null,
      "outputs": [
        {
          "output_type": "stream",
          "name": "stderr",
          "text": [
            "/usr/local/lib/python3.10/dist-packages/langchain/chains/sql_database/base.py:63: UserWarning: Directly instantiating an SQLDatabaseChain with an llm is deprecated. Please instantiate with llm_chain argument or using the from_llm class method.\n",
            "  warnings.warn(\n"
          ]
        }
      ]
    },
    {
      "cell_type": "markdown",
      "source": [
        "# Question 1"
      ],
      "metadata": {
        "id": "xjMuQkB8BnFF"
      }
    },
    {
      "cell_type": "code",
      "source": [
        "db_agent.run(\"how many rows are there?\")"
      ],
      "metadata": {
        "id": "RDovCG0Eil_W"
      },
      "execution_count": null,
      "outputs": []
    },
    {
      "cell_type": "markdown",
      "source": [
        "# Question 2"
      ],
      "metadata": {
        "id": "XG61vLA0BozA"
      }
    },
    {
      "cell_type": "code",
      "source": [
        "db_agent.run(\"how many channels are present?\")"
      ],
      "metadata": {
        "id": "q7Wkx6EKiFHG"
      },
      "execution_count": null,
      "outputs": []
    },
    {
      "cell_type": "markdown",
      "source": [
        "# Question 3"
      ],
      "metadata": {
        "id": "GN4P3XzJBsgD"
      }
    },
    {
      "cell_type": "code",
      "source": [
        "db_agent.run(\"how many videos than 100 likes?\")"
      ],
      "metadata": {
        "id": "nADLtzRGjJE8"
      },
      "execution_count": null,
      "outputs": []
    },
    {
      "cell_type": "markdown",
      "source": [
        "# Question 4"
      ],
      "metadata": {
        "id": "7l289EzUBuOD"
      }
    },
    {
      "cell_type": "code",
      "source": [
        "db_agent.run(\"Give all the details of Aabout video stafical data\")"
      ],
      "metadata": {
        "id": "byC6friejJHt"
      },
      "execution_count": null,
      "outputs": []
    },
    {
      "cell_type": "code",
      "source": [],
      "metadata": {
        "id": "y9eRBcF1jUCz"
      },
      "execution_count": null,
      "outputs": []
    },
    {
      "cell_type": "code",
      "source": [],
      "metadata": {
        "id": "t5yiAlGAjUFF"
      },
      "execution_count": null,
      "outputs": []
    },
    {
      "cell_type": "code",
      "source": [],
      "metadata": {
        "id": "-qhZn0NEjUIi"
      },
      "execution_count": null,
      "outputs": []
    },
    {
      "cell_type": "code",
      "source": [],
      "metadata": {
        "id": "O9oQXbD_iFJa"
      },
      "execution_count": null,
      "outputs": []
    }
  ],
  "metadata": {
    "kernelspec": {
      "display_name": "Python 3",
      "name": "python3"
    },
    "language_info": {
      "name": "python"
    },
    "colab": {
      "provenance": []
    }
  },
  "nbformat": 4,
  "nbformat_minor": 0
}